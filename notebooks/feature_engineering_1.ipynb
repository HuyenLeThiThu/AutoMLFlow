{
 "cells": [
  {
   "cell_type": "markdown",
   "metadata": {},
   "source": [
    "# Setting Pyspark"
   ]
  },
  {
   "cell_type": "code",
   "execution_count": 31,
   "metadata": {},
   "outputs": [
    {
     "ename": "ImportError",
     "evalue": "cannot import name 'log_transformation' from 'train.transforms.outliers' (/Users/haiduong/Documents/mlops-loan-approval-classification/train/transforms/outliers.py)",
     "output_type": "error",
     "traceback": [
      "\u001b[0;31m---------------------------------------------------------------------------\u001b[0m",
      "\u001b[0;31mImportError\u001b[0m                               Traceback (most recent call last)",
      "Cell \u001b[0;32mIn[31], line 6\u001b[0m\n\u001b[1;32m      4\u001b[0m \u001b[38;5;28;01mfrom\u001b[39;00m \u001b[38;5;21;01mpyspark\u001b[39;00m\u001b[38;5;21;01m.\u001b[39;00m\u001b[38;5;21;01msql\u001b[39;00m \u001b[38;5;28;01mimport\u001b[39;00m SparkSession\n\u001b[1;32m      5\u001b[0m \u001b[38;5;28;01mfrom\u001b[39;00m \u001b[38;5;21;01mtrain\u001b[39;00m\u001b[38;5;21;01m.\u001b[39;00m\u001b[38;5;21;01mtransforms\u001b[39;00m\u001b[38;5;21;01m.\u001b[39;00m\u001b[38;5;21;01msplitting\u001b[39;00m \u001b[38;5;28;01mimport\u001b[39;00m stratified_splitting\n\u001b[0;32m----> 6\u001b[0m \u001b[38;5;28;01mfrom\u001b[39;00m \u001b[38;5;21;01mtrain\u001b[39;00m\u001b[38;5;21;01m.\u001b[39;00m\u001b[38;5;21;01mtransforms\u001b[39;00m\u001b[38;5;21;01m.\u001b[39;00m\u001b[38;5;21;01moutliers\u001b[39;00m \u001b[38;5;28;01mimport\u001b[39;00m log_transformation\n\u001b[1;32m      7\u001b[0m \u001b[38;5;28;01mfrom\u001b[39;00m \u001b[38;5;21;01mtrain\u001b[39;00m\u001b[38;5;21;01m.\u001b[39;00m\u001b[38;5;21;01mtransforms\u001b[39;00m\u001b[38;5;21;01m.\u001b[39;00m\u001b[38;5;21;01mcategorical_data\u001b[39;00m \u001b[38;5;28;01mimport\u001b[39;00m \u001b[38;5;241m*\u001b[39m\n\u001b[1;32m      8\u001b[0m \u001b[38;5;28;01mfrom\u001b[39;00m \u001b[38;5;21;01mtrain\u001b[39;00m\u001b[38;5;21;01m.\u001b[39;00m\u001b[38;5;21;01mtransforms\u001b[39;00m\u001b[38;5;21;01m.\u001b[39;00m\u001b[38;5;21;01mcorrelation\u001b[39;00m \u001b[38;5;28;01mimport\u001b[39;00m \u001b[38;5;241m*\u001b[39m\n",
      "\u001b[0;31mImportError\u001b[0m: cannot import name 'log_transformation' from 'train.transforms.outliers' (/Users/haiduong/Documents/mlops-loan-approval-classification/train/transforms/outliers.py)"
     ]
    }
   ],
   "source": [
    "import findspark\n",
    "\n",
    "from configs.config import DATA_SOURCE_DIR\n",
    "from pyspark.sql import SparkSession\n",
    "from train.transforms.splitting import stratified_splitting\n",
    "from train.transforms.outliers import log_transformation\n",
    "from train.transforms.categorical_data import *\n",
    "from train.transforms.correlation import *"
   ]
  },
  {
   "cell_type": "code",
   "execution_count": 4,
   "metadata": {},
   "outputs": [
    {
     "name": "stderr",
     "output_type": "stream",
     "text": [
      "24/12/24 15:30:41 WARN SparkSession: Using an existing Spark session; only runtime SQL configurations will take effect.\n"
     ]
    }
   ],
   "source": [
    "findspark.init()\n",
    "findspark.find()\n",
    "\n",
    "spark= SparkSession \\\n",
    "       .builder \\\n",
    "       .appName(\"Feature engineering 1\") \\\n",
    "       .getOrCreate()"
   ]
  },
  {
   "cell_type": "code",
   "execution_count": 5,
   "metadata": {},
   "outputs": [],
   "source": [
    "df = spark.read.csv(str(DATA_SOURCE_DIR),header=True,escape=\"\\\"\")\n",
    "df_pandas = df.toPandas()"
   ]
  },
  {
   "cell_type": "markdown",
   "metadata": {},
   "source": [
    "# Stratified Splitting"
   ]
  },
  {
   "cell_type": "code",
   "execution_count": null,
   "metadata": {},
   "outputs": [],
   "source": [
    "train_df, test_df, val_df = stratified_splitting(\n",
    "    df_pandas, train_size=0.8, test_size=0.1, val_size=0.1, random_state=42\n",
    ")"
   ]
  },
  {
   "cell_type": "markdown",
   "metadata": {},
   "source": [
    "Confirm the proportion of class"
   ]
  },
  {
   "cell_type": "code",
   "execution_count": 25,
   "metadata": {},
   "outputs": [],
   "source": [
    "def test_stratified_sampling(source_df, \n",
    "                             train_df,\n",
    "                             test_df,\n",
    "                             val_df\n",
    "                            ):\n",
    "    source_df_class_proportion = source_df['loan_status'].value_counts()[0] / source_df['loan_status'].value_counts()[1]\n",
    "    train_df_class_proportion = train_df['loan_status'].value_counts()[0] / train_df['loan_status'].value_counts()[1]\n",
    "    val_df_class_proportion = val_df['loan_status'].value_counts()[0] / val_df['loan_status'].value_counts()[1]\n",
    "    test_df_class_proportion = test_df['loan_status'].value_counts()[0] / test_df['loan_status'].value_counts()[1]\n",
    "\n",
    "    if source_df_class_proportion == train_df_class_proportion == val_df_class_proportion == test_df_class_proportion:\n",
    "        print(\"The proportion of class in each set are the same\")"
   ]
  },
  {
   "cell_type": "code",
   "execution_count": 26,
   "metadata": {},
   "outputs": [
    {
     "name": "stdout",
     "output_type": "stream",
     "text": [
      "The proportion of class in each set are the same\n"
     ]
    },
    {
     "name": "stderr",
     "output_type": "stream",
     "text": [
      "/var/folders/13/jltvwky966g5t57g1b1zpn5h0000gn/T/ipykernel_14377/1785067673.py:6: FutureWarning: Series.__getitem__ treating keys as positions is deprecated. In a future version, integer keys will always be treated as labels (consistent with DataFrame behavior). To access a value by position, use `ser.iloc[pos]`\n",
      "  source_df_class_proportion = source_df['loan_status'].value_counts()[0] / source_df['loan_status'].value_counts()[1]\n",
      "/var/folders/13/jltvwky966g5t57g1b1zpn5h0000gn/T/ipykernel_14377/1785067673.py:6: FutureWarning: Series.__getitem__ treating keys as positions is deprecated. In a future version, integer keys will always be treated as labels (consistent with DataFrame behavior). To access a value by position, use `ser.iloc[pos]`\n",
      "  source_df_class_proportion = source_df['loan_status'].value_counts()[0] / source_df['loan_status'].value_counts()[1]\n",
      "/var/folders/13/jltvwky966g5t57g1b1zpn5h0000gn/T/ipykernel_14377/1785067673.py:7: FutureWarning: Series.__getitem__ treating keys as positions is deprecated. In a future version, integer keys will always be treated as labels (consistent with DataFrame behavior). To access a value by position, use `ser.iloc[pos]`\n",
      "  train_df_class_proportion = train_df['loan_status'].value_counts()[0] / train_df['loan_status'].value_counts()[1]\n",
      "/var/folders/13/jltvwky966g5t57g1b1zpn5h0000gn/T/ipykernel_14377/1785067673.py:7: FutureWarning: Series.__getitem__ treating keys as positions is deprecated. In a future version, integer keys will always be treated as labels (consistent with DataFrame behavior). To access a value by position, use `ser.iloc[pos]`\n",
      "  train_df_class_proportion = train_df['loan_status'].value_counts()[0] / train_df['loan_status'].value_counts()[1]\n",
      "/var/folders/13/jltvwky966g5t57g1b1zpn5h0000gn/T/ipykernel_14377/1785067673.py:8: FutureWarning: Series.__getitem__ treating keys as positions is deprecated. In a future version, integer keys will always be treated as labels (consistent with DataFrame behavior). To access a value by position, use `ser.iloc[pos]`\n",
      "  val_df_class_proportion = val_df['loan_status'].value_counts()[0] / val_df['loan_status'].value_counts()[1]\n",
      "/var/folders/13/jltvwky966g5t57g1b1zpn5h0000gn/T/ipykernel_14377/1785067673.py:8: FutureWarning: Series.__getitem__ treating keys as positions is deprecated. In a future version, integer keys will always be treated as labels (consistent with DataFrame behavior). To access a value by position, use `ser.iloc[pos]`\n",
      "  val_df_class_proportion = val_df['loan_status'].value_counts()[0] / val_df['loan_status'].value_counts()[1]\n",
      "/var/folders/13/jltvwky966g5t57g1b1zpn5h0000gn/T/ipykernel_14377/1785067673.py:9: FutureWarning: Series.__getitem__ treating keys as positions is deprecated. In a future version, integer keys will always be treated as labels (consistent with DataFrame behavior). To access a value by position, use `ser.iloc[pos]`\n",
      "  test_df_class_proportion = test_df['loan_status'].value_counts()[0] / test_df['loan_status'].value_counts()[1]\n",
      "/var/folders/13/jltvwky966g5t57g1b1zpn5h0000gn/T/ipykernel_14377/1785067673.py:9: FutureWarning: Series.__getitem__ treating keys as positions is deprecated. In a future version, integer keys will always be treated as labels (consistent with DataFrame behavior). To access a value by position, use `ser.iloc[pos]`\n",
      "  test_df_class_proportion = test_df['loan_status'].value_counts()[0] / test_df['loan_status'].value_counts()[1]\n"
     ]
    }
   ],
   "source": [
    "test_stratified_sampling(\n",
    "    df_pandas, train_df, test_df, val_df\n",
    ")"
   ]
  },
  {
   "cell_type": "markdown",
   "metadata": {},
   "source": [
    "Convert back to pyspark dataframe"
   ]
  },
  {
   "cell_type": "code",
   "execution_count": 27,
   "metadata": {},
   "outputs": [],
   "source": [
    "train_spark_df = spark.createDataFrame(train_df)\n",
    "test_spark_df = spark.createDataFrame(test_df)\n",
    "val_spark_df = spark.createDataFrame(val_df)"
   ]
  },
  {
   "cell_type": "code",
   "execution_count": null,
   "metadata": {},
   "outputs": [],
   "source": []
  }
 ],
 "metadata": {
  "kernelspec": {
   "display_name": "mlac",
   "language": "python",
   "name": "python3"
  },
  "language_info": {
   "codemirror_mode": {
    "name": "ipython",
    "version": 3
   },
   "file_extension": ".py",
   "mimetype": "text/x-python",
   "name": "python",
   "nbconvert_exporter": "python",
   "pygments_lexer": "ipython3",
   "version": "3.12.0"
  }
 },
 "nbformat": 4,
 "nbformat_minor": 2
}
